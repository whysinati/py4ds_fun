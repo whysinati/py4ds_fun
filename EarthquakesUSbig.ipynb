{
 "cells": [
  {
   "cell_type": "code",
   "execution_count": 115,
   "metadata": {},
   "outputs": [
    {
     "name": "stdout",
     "output_type": "stream",
     "text": [
      "25\n"
     ]
    }
   ],
   "source": [
    "#!pip install html5lib #install html5lib, only needs to be run once\n",
    "\n",
    "#You might need to restart kernel after running with the menu Kernel>Restart\n",
    "\n",
    "import pandas as pd\n",
    "import numpy as np\n",
    "\n",
    "earthquake_data='https://proxy.mentoracademy.org/getContentFromUrl/?userid=12150a6d87afd7edcaf00675661961a80d414ad7&url=https%3A%2F%2Fen.wikipedia.org%2Fwiki%2FList_of_earthquakes_in_the_United_States&r=4'\n",
    "\n",
    "df = pd.read_html(earthquake_data, header=0)[0]\n",
    "\n",
    "df = df[df['Magnitude'] != 'Unknown'] #get rid of all the data where there is no known magnitude\n",
    "####%%timeit -n 10\n",
    "#this works but solves wrong thing --> df['Magnitude'] = df['Magnitude'].apply(lambda z: z.split(u'\\N{EN DASH}')[0]) #for data where there are two values report with a comma, just take the first value\n",
    "#this also works but solves wrong thing --> df['Magnitude'] = df['Magnitude'].str.split(u'\\N{EN DASH}', n=0, expand=True) #for data where there are two values report with a comma, just take the first value\n",
    "df['Magnitude'] = df['Magnitude'].apply(lambda z: z.split(', ')[0]) #for data where there are two values report with a comma, just take the first value\n",
    "\n",
    "# potential formatting for the split() string --> u'\\N{EN DASH}' #u'\\u2013'\n",
    "\n",
    "#df['Magnitude']= df['Magnitude'].apply(lambda z: z.split(u'\\N{EN DASH}').astype('float64'))#.mean() #average all ranges of values\n",
    "#this [almost] works but solves the wrong thing --> avg_mag = df['Magnitude'].astype('float64').mean() #average all ranges of values\n",
    "#df['Magnitude']= df['Magnitude'].apply(lambda z: z.mean(.split(u'\\N{EN DASH}').astype('float64')))#.mean() #average all ranges of values\n",
    "df['Magnitude'] = df['Magnitude'].apply(lambda x: np.mean(np.array(x.split(u'\\N{EN DASH}')).astype(float)))#.astype('float64')\n",
    "#instructor's code --> df['Magnitude']=df['Magnitude'].apply(lambda x: np.mean(np.array(x.split('–')).astype(float)))\n",
    "print(len(df[df['Magnitude'] > 7])) #print out how many earthquakes on this list had values >7\n",
    "\n",
    "#df"
   ]
  },
  {
   "cell_type": "code",
   "execution_count": 28,
   "metadata": {},
   "outputs": [
    {
     "name": "stdout",
     "output_type": "stream",
     "text": [
      "—\n"
     ]
    }
   ],
   "source": [
    "print (u'\\u2014')\n",
    "#‐\t8208\t2010\t \tHYPHEN\n",
    "#‑\t8209\t2011\t \tNON-BREAKING HYPHEN\n",
    "#‒\t8210\t2012\t \tFIGURE DASH\n",
    "#–\t8211\t2013\t&ndash;\tEN DASH\n",
    "#—\t8212\t2014\t&mdash;\tEM DASH\n"
   ]
  },
  {
   "cell_type": "code",
   "execution_count": 31,
   "metadata": {},
   "outputs": [
    {
     "name": "stdout",
     "output_type": "stream",
     "text": [
      "—\n"
     ]
    }
   ],
   "source": [
    "print(u'\\N{EM DASH}')"
   ]
  },
  {
   "cell_type": "code",
   "execution_count": 54,
   "metadata": {},
   "outputs": [
    {
     "data": {
      "text/plain": [
       "str"
      ]
     },
     "execution_count": 54,
     "metadata": {},
     "output_type": "execute_result"
    }
   ],
   "source": [
    "type('–')"
   ]
  },
  {
   "cell_type": "code",
   "execution_count": 104,
   "metadata": {},
   "outputs": [
    {
     "data": {
      "text/plain": [
       "29         [9.2]\n",
       "30         [8.7]\n",
       "31         [6.7]\n",
       "32         [5.3]\n",
       "33         [5.2]\n",
       "34         [5.4]\n",
       "35    [5.6, 5.7]\n",
       "36     [6.5–6.7]\n",
       "37         [7.6]\n",
       "38         [4.6]\n",
       "Name: Magnitude, dtype: object"
      ]
     },
     "execution_count": 104,
     "metadata": {},
     "output_type": "execute_result"
    }
   ],
   "source": [
    "earthquake_data='https://proxy.mentoracademy.org/getContentFromUrl/?userid=12150a6d87afd7edcaf00675661961a80d414ad7&url=https%3A%2F%2Fen.wikipedia.org%2Fwiki%2FList_of_earthquakes_in_the_United_States&r=4'\n",
    "df = pd.read_html(earthquake_data, header=0)[0]\n",
    "\n",
    "df = df[df['Magnitude'] != 'Unknown'] #get rid of all the data where there is no known magnitude\n",
    "####%%timeit -n 10\n",
    "#this works but solves wrong thing --> df['Magnitude'] = df['Magnitude'].apply(lambda z: z.split(u'\\N{EN DASH}')[0]) #for data where there are two values report with a comma, just take the first value\n",
    "#this also works but solves wrong thing --> df['Magnitude'] = df['Magnitude'].str.split(u'\\N{EN DASH}', n=0, expand=True) #for data where there are two values report with a comma, just take the first value\n",
    "df['Magnitude'] = df['Magnitude'].str.split(', ', n=0) #for data where there are two values report with a comma, just take the first value\n",
    "\n",
    "df['Magnitude'][28:38] # type is series"
   ]
  },
  {
   "cell_type": "code",
   "execution_count": null,
   "metadata": {},
   "outputs": [],
   "source": []
  }
 ],
 "metadata": {
  "kernelspec": {
   "display_name": "Python 3",
   "language": "python",
   "name": "python3"
  },
  "language_info": {
   "codemirror_mode": {
    "name": "ipython",
    "version": 3
   },
   "file_extension": ".py",
   "mimetype": "text/x-python",
   "name": "python",
   "nbconvert_exporter": "python",
   "pygments_lexer": "ipython3",
   "version": "3.6.4"
  }
 },
 "nbformat": 4,
 "nbformat_minor": 2
}
